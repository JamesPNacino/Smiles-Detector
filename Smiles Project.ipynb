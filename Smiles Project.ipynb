{
 "cells": [
  {
   "cell_type": "markdown",
   "metadata": {},
   "source": [
    "# Building a Smile Detector\n",
    "\n",
    "Using a CNN and OpenCV we will create a real-time smile detector which we can deploy through the webcam."
   ]
  },
  {
   "cell_type": "markdown",
   "metadata": {},
   "source": [
    "## Training the smile detector"
   ]
  },
  {
   "cell_type": "code",
   "execution_count": 11,
   "metadata": {
    "collapsed": false
   },
   "outputs": [],
   "source": [
    "# import the necessary packages\n",
    "from sklearn.preprocessing import LabelEncoder\n",
    "from sklearn.cross_validation import train_test_split\n",
    "from sklearn.metrics import classification_report\n",
    "from keras.preprocessing.image import img_to_array\n",
    "from keras.utils import np_utils\n",
    "from lenet import LeNet\n",
    "from imutils import paths\n",
    "import matplotlib.pyplot as plt\n",
    "import numpy as np\n",
    "import argparse\n",
    "import imutils\n",
    "import cv2\n",
    "import os"
   ]
  },
  {
   "cell_type": "code",
   "execution_count": 2,
   "metadata": {
    "collapsed": false
   },
   "outputs": [],
   "source": [
    "# initialize the list of data and labels\n",
    "data = []\n",
    "labels = []\n",
    "\n",
    "# read through the positive images and append the image data and labels\n",
    "directory = \"C:\\\\Users\\\\james\\\\Documents\\\\Computer Vision\\\\Projects\\\\Smile Detection\\\\SMILEsmileD-master\\\\SMILEs\\\\positives\\\\positives7\"\n",
    "for imagePath in os.listdir(directory):\n",
    "    if imagePath.endswith(\".jpg\"): \n",
    "        image = cv2.imread(directory + \"\\\\\" + imagePath)\n",
    "        image = cv2.cvtColor(image, cv2.COLOR_BGR2GRAY)\n",
    "        image = imutils.resize(image, width=28)\n",
    "        image = img_to_array(image)\n",
    "        data.append(image)\n",
    "        labels.append(\"smiling\")\n",
    "\n",
    "# read through the negative images and append the image data and labels\n",
    "directory = \"C:\\\\Users\\\\james\\\\Documents\\\\Computer Vision\\\\Projects\\\\Smile Detection\\\\SMILEsmileD-master\\\\SMILEs\\\\negatives\\\\negatives7\"\n",
    "for imagePath in os.listdir(directory):\n",
    "    if imagePath.endswith(\".jpg\"): \n",
    "        image = cv2.imread(directory + \"\\\\\" + imagePath)\n",
    "        image = cv2.cvtColor(image, cv2.COLOR_BGR2GRAY)\n",
    "        image = imutils.resize(image, width=28)\n",
    "        image = img_to_array(image)\n",
    "        data.append(image)\n",
    "        labels.append(\"not_smiling\")\n",
    "        "
   ]
  },
  {
   "cell_type": "code",
   "execution_count": 3,
   "metadata": {
    "collapsed": false
   },
   "outputs": [],
   "source": [
    "# Scale the raw pixel intensities to the range [0,1]\n",
    "data = np.array(data, dtype=\"float\") / 255.0\n",
    "labels = np.array(labels)\n",
    "\n",
    "# convert the labels from integers to vectors\n",
    "le = LabelEncoder().fit(labels)\n",
    "labels = np_utils.to_categorical(le.transform(labels), 2)"
   ]
  },
  {
   "cell_type": "markdown",
   "metadata": {},
   "source": [
    "Below computes the total number of examples per class. In this case, classTotals will be\n",
    "an array: [9475, 3690] for “not smiling” and “smiling”, respectively.\n",
    "We then scale these totals to obtain the classWeight used to handle the class\n",
    "imbalance, yielding the array: [1, 2.56]. This weighting implies that our network will treat every\n",
    "instance of “smiling” as 2.56 instances of “not smiling” and helps combat the class imbalance issue\n",
    "by amplifying the per-instance loss by a larger weight when seeing “smiling” examples."
   ]
  },
  {
   "cell_type": "code",
   "execution_count": 4,
   "metadata": {
    "collapsed": false
   },
   "outputs": [],
   "source": [
    "# account for skew in the labeled data\n",
    "classTotals = labels.sum(axis=0)\n",
    "classWeight = classTotals.max() / classTotals"
   ]
  },
  {
   "cell_type": "code",
   "execution_count": 5,
   "metadata": {
    "collapsed": false
   },
   "outputs": [],
   "source": [
    "# partition the data using 80% for training and 20% for testing\n",
    "(trainX, testX, trainY, testY) = train_test_split(data, labels, test_size=0.20, random_state=1)"
   ]
  },
  {
   "cell_type": "code",
   "execution_count": 15,
   "metadata": {
    "collapsed": false
   },
   "outputs": [
    {
     "name": "stdout",
     "output_type": "stream",
     "text": [
      "[INFO] compiling model...\n"
     ]
    }
   ],
   "source": [
    "# initialize the model\n",
    "print(\"[INFO] compiling model...\")\n",
    "model = LeNet.build(width=28, height=28, depth=1, classes=2)\n",
    "model.compile(loss=\"binary_crossentropy\", optimizer=\"adam\", metrics=[\"accuracy\"])"
   ]
  },
  {
   "cell_type": "code",
   "execution_count": 16,
   "metadata": {
    "collapsed": false
   },
   "outputs": [
    {
     "name": "stdout",
     "output_type": "stream",
     "text": [
      "[INFO] training network...\n",
      "Train on 10532 samples, validate on 2633 samples\n",
      "Epoch 1/15\n",
      "10532/10532 [==============================] - 2s 185us/step - loss: 0.4001 - acc: 0.8191 - val_loss: 0.2617 - val_acc: 0.8940\n",
      "Epoch 2/15\n",
      "10532/10532 [==============================] - 2s 146us/step - loss: 0.2711 - acc: 0.8899 - val_loss: 0.2319 - val_acc: 0.9164\n",
      "Epoch 3/15\n",
      "10532/10532 [==============================] - 2s 144us/step - loss: 0.2431 - acc: 0.9037 - val_loss: 0.2496 - val_acc: 0.8997\n",
      "Epoch 4/15\n",
      "10532/10532 [==============================] - 2s 145us/step - loss: 0.2221 - acc: 0.9137 - val_loss: 0.2201 - val_acc: 0.9168\n",
      "Epoch 5/15\n",
      "10532/10532 [==============================] - 2s 149us/step - loss: 0.2145 - acc: 0.9165 - val_loss: 0.2366 - val_acc: 0.9107\n",
      "Epoch 6/15\n",
      "10532/10532 [==============================] - 2s 147us/step - loss: 0.2019 - acc: 0.9239 - val_loss: 0.2082 - val_acc: 0.9225\n",
      "Epoch 7/15\n",
      "10532/10532 [==============================] - 2s 162us/step - loss: 0.1927 - acc: 0.9273 - val_loss: 0.2143 - val_acc: 0.9145\n",
      "Epoch 8/15\n",
      "10532/10532 [==============================] - 2s 148us/step - loss: 0.1754 - acc: 0.9347 - val_loss: 0.2190 - val_acc: 0.9157\n",
      "Epoch 9/15\n",
      "10532/10532 [==============================] - 2s 147us/step - loss: 0.1711 - acc: 0.9364 - val_loss: 0.2052 - val_acc: 0.9199\n",
      "Epoch 10/15\n",
      "10532/10532 [==============================] - 2s 145us/step - loss: 0.1599 - acc: 0.9386 - val_loss: 0.2211 - val_acc: 0.9187\n",
      "Epoch 11/15\n",
      "10532/10532 [==============================] - 2s 145us/step - loss: 0.1462 - acc: 0.9444 - val_loss: 0.2218 - val_acc: 0.9111\n",
      "Epoch 12/15\n",
      "10532/10532 [==============================] - 2s 148us/step - loss: 0.1384 - acc: 0.9475 - val_loss: 0.2071 - val_acc: 0.9214\n",
      "Epoch 13/15\n",
      "10532/10532 [==============================] - 2s 148us/step - loss: 0.1242 - acc: 0.9517 - val_loss: 0.2368 - val_acc: 0.9153\n",
      "Epoch 14/15\n",
      "10532/10532 [==============================] - 2s 144us/step - loss: 0.1055 - acc: 0.9611 - val_loss: 0.2367 - val_acc: 0.9149\n",
      "Epoch 15/15\n",
      "10532/10532 [==============================] - 2s 144us/step - loss: 0.1014 - acc: 0.9633 - val_loss: 0.2493 - val_acc: 0.9096\n"
     ]
    }
   ],
   "source": [
    "# compile the model\n",
    "print(\"[INFO] training network...\")\n",
    "H = model.fit(trainX, trainY, validation_data=(testX, testY), batch_size=64, epochs=15, verbose=1)"
   ]
  },
  {
   "cell_type": "code",
   "execution_count": 17,
   "metadata": {
    "collapsed": false
   },
   "outputs": [
    {
     "name": "stdout",
     "output_type": "stream",
     "text": [
      "[INFO] evaluating network...\n",
      "             precision    recall  f1-score   support\n",
      "\n",
      "not_smiling       0.95      0.92      0.94      1871\n",
      "    smiling       0.82      0.89      0.85       762\n",
      "\n",
      "avg / total       0.91      0.91      0.91      2633\n",
      "\n"
     ]
    }
   ],
   "source": [
    "# evaluate the network\n",
    "print(\"[INFO] evaluating network...\")\n",
    "predictions = model.predict(testX, batch_size=64)\n",
    "print(classification_report(testY.argmax(axis=1), predictions.argmax(axis=1), target_names=le.classes_))"
   ]
  },
  {
   "cell_type": "code",
   "execution_count": 19,
   "metadata": {
    "collapsed": false
   },
   "outputs": [
    {
     "data": {
      "image/png": "[encoded data removed]",
      "text/plain": [
       "<matplotlib.figure.Figure at 0x2340b1f4f28>"
      ]
     },
     "metadata": {},
     "output_type": "display_data"
    }
   ],
   "source": [
    "# Plot the training and test loss and accuracy\n",
    "plt.style.use(\"ggplot\")\n",
    "plt.figure()\n",
    "plt.plot(np.arange(0, 15), H.history[\"loss\"], label=\"train_loss\")\n",
    "plt.plot(np.arange(0, 15), H.history[\"val_loss\"], label=\"val_loss\")\n",
    "plt.plot(np.arange(0, 15), H.history[\"acc\"], label=\"acc\")\n",
    "plt.plot(np.arange(0, 15), H.history[\"val_acc\"], label=\"val_acc\")\n",
    "plt.title(\"Training Loss and Accuracy\")\n",
    "plt.xlabel(\"Epoch #\")\n",
    "plt.ylabel(\"Loss/Accuracy\")\n",
    "plt.legend()\n",
    "plt.show()"
   ]
  },
  {
   "cell_type": "markdown",
   "metadata": {
    "collapsed": true
   },
   "source": [
    "## Running the smile detector in real-time"
   ]
  },
  {
   "cell_type": "code",
   "execution_count": 1,
   "metadata": {
    "collapsed": false
   },
   "outputs": [
    {
     "name": "stderr",
     "output_type": "stream",
     "text": [
      "Using TensorFlow backend.\n"
     ]
    }
   ],
   "source": [
    "from keras.models import load_model\n",
    "import cv2\n",
    "import imutils\n",
    "from keras.preprocessing.image import img_to_array\n",
    "import numpy as np\n",
    "\n",
    "# load the face detector casscade and smile detector CNN\n",
    "model = load_model(\"face_recognition_model.H5\")\n",
    "detector = cv2.CascadeClassifier('haarcascade_frontalface_default.xml')"
   ]
  },
  {
   "cell_type": "code",
   "execution_count": 2,
   "metadata": {
    "collapsed": true
   },
   "outputs": [],
   "source": [
    "# grab the reference to the webcam\n",
    "camera = cv2.VideoCapture(0)"
   ]
  },
  {
   "cell_type": "code",
   "execution_count": null,
   "metadata": {
    "collapsed": false
   },
   "outputs": [],
   "source": [
    "while(True):\n",
    "\n",
    "    \n",
    "    # grab the current frame\n",
    "    (grabbed, frame) = camera.read()\n",
    "\n",
    "    # resize the frame, convert it to grayscale, and then clone the\n",
    "    # original frame so we can draw on it later in the program\n",
    "    frame = imutils.resize(frame, width=300)\n",
    "    gray = cv2.cvtColor(frame, cv2.COLOR_BGR2GRAY)\n",
    "    frameClone = frame.copy()\n",
    "\n",
    "    rects = detector.detectMultiScale(gray, scaleFactor=1.1, minNeighbors=5, minSize=(30, 30), flags=cv2.CASCADE_SCALE_IMAGE)\n",
    "    \n",
    "    # loop over the face bounding boxes\n",
    "    for (fX, fY, fW, fH) in rects:\n",
    "        # extract the ROI (region of interst) of the face from the grayscale image,\n",
    "        # resize it to a fixed 28x28 pixels, and then prepare the\n",
    "        # ROI for classification via the CNN\n",
    "        roi = gray[fY:fY + fH, fX:fX + fW]\n",
    "        roi = cv2.resize(roi, (28, 28))\n",
    "        roi = roi.astype(\"float\") / 255.0\n",
    "        roi = img_to_array(roi)\n",
    "        roi = np.expand_dims(roi, axis=0)\n",
    "\n",
    "        \n",
    "        # determine the probabilities of both \"smiling\" and \"not\n",
    "        # smiling\", then set the label accordingly\n",
    "        (notSmiling, smiling) = model.predict(roi)[0]\n",
    "        if smiling > notSmiling:\n",
    "            label = \"Smiling\" \n",
    "        else:\n",
    "            label = \"Not Smiling\"\n",
    "\n",
    "        # display the label and bounding box rectangle on the output\n",
    "        # frame\n",
    "        cv2.putText(frameClone, label, (fX, fY - 10),\n",
    "        cv2.FONT_HERSHEY_SIMPLEX, 0.45, (0, 0, 255), 2)\n",
    "        cv2.rectangle(frameClone, (fX, fY), (fX + fW, fY + fH),\n",
    "        (0, 0, 255), 2)\n",
    "\n",
    "        # show our detected faces along with smiling/not smiling labels\n",
    "        cv2.imshow(\"Face\", frameClone)\n",
    "\n",
    "        # if the ’q’ key is pressed, stop the loop\n",
    "        if cv2.waitKey(1) or 0xFF == ord('q'):\n",
    "            break\n",
    "\n",
    "# cleanup the camera and close any open windows\n",
    "camera.release()\n",
    "cv2.destroyAllWindows()"
   ]
  },
  {
   "cell_type": "code",
   "execution_count": null,
   "metadata": {
    "collapsed": true
   },
   "outputs": [],
   "source": []
  }
 ],
 "metadata": {
  "anaconda-cloud": {},
  "kernelspec": {
   "display_name": "Python [default]",
   "language": "python",
   "name": "python3"
  },
  "language_info": {
   "codemirror_mode": {
    "name": "ipython",
    "version": 3
   },
   "file_extension": ".py",
   "mimetype": "text/x-python",
   "name": "python",
   "nbconvert_exporter": "python",
   "pygments_lexer": "ipython3",
   "version": "3.5.2"
  }
 },
 "nbformat": 4,
 "nbformat_minor": 2
}
